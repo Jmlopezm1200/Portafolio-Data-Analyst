{
 "cells": [
  {
   "cell_type": "code",
   "execution_count": null,
   "id": "ecc28b83",
   "metadata": {},
   "outputs": [
    {
     "name": "stdout",
     "output_type": "stream",
     "text": [
      "Index(['names', 'date_x', 'score', 'genre', 'overview', 'crew', 'orig_title',\n",
      "       'status', 'orig_lang', 'budget_x', 'revenue', 'country'],\n",
      "      dtype='object')\n"
     ]
    }
   ],
   "source": [
    "\n",
    "# Análisis comparativo de títulos de películas en Netflix y Amazon Prime\n",
    "\n",
    "import pandas as pd\n",
    "import numpy as np\n",
    "imdb = pd.read_csv(\"imdb_movies.csv\")\n",
    "print(imdb.columns)"
   ]
  },
  {
   "cell_type": "code",
   "execution_count": null,
   "id": "5175862f",
   "metadata": {},
   "outputs": [],
   "source": [
    "\n",
    "# Cargar IMDb\n",
    "imdb = pd.read_csv(\"imdb_movies.csv\")\n",
    "# Nos quedamos solo con columnas relevantes\n",
    "imdb_clean = imdb[[\"names\", \"genre\", \"score\", \"budget_x\", \"revenue\"]].dropna(subset=[\"names\"])\n",
    "# Normalizar títulos para comparación\n",
    "imdb_clean[\"title_norm\"] = imdb_clean[\"names\"].str.strip().str.upper()\n",
    "\n",
    "# Cargar datasets de streaming\n",
    "amazon = pd.read_csv(\"amazon_prime_titles.csv\")\n",
    "netflix = pd.read_csv(\"netflix_titles.csv\")\n",
    "# Agregar columna de plataforma\n",
    "amazon[\"platform\"] = \"Amazon Prime\"\n",
    "netflix[\"platform\"] = \"Netflix\"\n",
    "# Unir datasets\n",
    "streaming = pd.concat([amazon, netflix], ignore_index=True)\n",
    "# Filtrar películas con título válido\n",
    "streaming = streaming[\n",
    "    (streaming[\"type\"] == \"Movie\") &\n",
    "    (streaming[\"title\"].notna())\n",
    "].copy()\n",
    "# Normalizar títulos\n",
    "streaming[\"title_norm\"] = streaming[\"title\"].str.strip().str.upper()\n",
    "\n"
   ]
  },
  {
   "cell_type": "code",
   "execution_count": 21,
   "id": "54aaa559",
   "metadata": {},
   "outputs": [],
   "source": [
    "# Filtrar solo películas que también estén en IMDb\n",
    "streaming[\"is_in_imdb\"] = streaming[\"title_norm\"].isin(imdb_clean[\"title_norm\"])\n",
    "streaming_imdb = streaming[streaming[\"is_in_imdb\"]].copy()\n",
    "\n",
    "# Agrupar por título y plataforma\n",
    "platforms = streaming_imdb.groupby([\"title_norm\", \"platform\"]).size().unstack(fill_value=0)\n",
    "\n",
    "# Clasificación de disponibilidad\n",
    "def classify(row):\n",
    "    if row.get(\"Netflix\", 0) > 0 and row.get(\"Amazon Prime\", 0) > 0:\n",
    "        return \"Both\"\n",
    "    elif row.get(\"Netflix\", 0) > 0:\n",
    "        return \"Netflix\"\n",
    "    elif row.get(\"Amazon Prime\", 0) > 0:\n",
    "        return \"Amazon Prime\"\n",
    "    return \"Unknown\"\n",
    "\n",
    "platforms[\"availability\"] = platforms.apply(classify, axis=1)\n",
    "\n",
    "# Juntar con IMDb\n",
    "final_df = pd.merge(imdb_clean, platforms[\"availability\"], on=\"title_norm\", how=\"inner\")\n",
    "\n",
    "# Reorganizar columnas\n",
    "final_df = final_df[[\"names\", \"genre\", \"score\", \"budget_x\", \"revenue\", \"availability\"]]\n"
   ]
  },
  {
   "cell_type": "code",
   "execution_count": 22,
   "id": "44b8f037",
   "metadata": {},
   "outputs": [],
   "source": [
    "# Exportar a archivo Excel\n",
    "final_df.to_excel(\"peliculas_imdb_vs_streaming.xlsx\", index=False)"
   ]
  }
 ],
 "metadata": {
  "kernelspec": {
   "display_name": "Python 3",
   "language": "python",
   "name": "python3"
  },
  "language_info": {
   "codemirror_mode": {
    "name": "ipython",
    "version": 3
   },
   "file_extension": ".py",
   "mimetype": "text/x-python",
   "name": "python",
   "nbconvert_exporter": "python",
   "pygments_lexer": "ipython3",
   "version": "3.12.6"
  }
 },
 "nbformat": 4,
 "nbformat_minor": 5
}
